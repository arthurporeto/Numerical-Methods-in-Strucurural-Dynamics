{
 "cells": [
  {
   "cell_type": "markdown",
   "id": "aefff381",
   "metadata": {},
   "source": [
    "# Rayleigh-Ritz analysis of a 1D Elastic Bar\n",
    "\n",
    "## Problem Statement  \n",
    "Consider a unidimensional elastic bar of length `L`, with:  \n",
    "- Linear density (mass per unit length): `ρ*A`  \n",
    "- Axial stiffness: `E*A/L` (where `E` is Young’s modulus, `A` is cross-sectional area)  \n",
    "- Displacement occurs only in the **x-direction**.  \n",
    "- Boundary conditions (Dirichlet or Neumann) may be applied at the ends `x=0` and `x=L`."
   ]
  },
  {
   "cell_type": "code",
   "execution_count": 13,
   "id": "93bb617e",
   "metadata": {},
   "outputs": [],
   "source": [
    "import numpy as np\n",
    "\n",
    "def F(x):\n",
    "    f1 = x**3 - x**2\n",
    "    f2 = x**4 - x**3\n",
    "    return np.array([f1, f2])"
   ]
  },
  {
   "cell_type": "markdown",
   "id": "8d013e40",
   "metadata": {},
   "source": [
    "Boundary Condition Compatibility Check\n",
    "\n",
    "Write two Python functions to verify if a single-variable function satisfies given Dirichlet or Neumann boundary conditions at a point.\n",
    "\n",
    "1. `is_dirichlet_compatible`\n",
    "   - Parameters:\n",
    "     - `fun` (callable): A function taking a single float argument.\n",
    "     - `x_0` (float): Boundary point to evaluate.\n",
    "     - `f_0` (float): Expected function value at the boundary point.\n",
    "     - `etol` (float): Tolerance for equality check.\n",
    "   - Returns:\n",
    "     - `bool`: True if the function satisfies the Dirichlet condition at `x` within tolerance, False otherwise.\n",
    "\n",
    "2. `is_neumann_compatible`\n",
    "   - Parameters:\n",
    "     - `fun` (callable): A function taking a single float argument.\n",
    "     - `x_0` (float): Boundary point to evaluate.\n",
    "     - `dfdx_0` (float): Expected derivative value at the boundary point.\n",
    "     - `dtol` (float): Tolerance for derivative calculation. Assume `dx != 0`.\n",
    "     - `etol` (float): Tolerance for equality check.\n",
    "   - Returns:\n",
    "     - `bool`: True if the function satisfies the Neumann condition at `x` within tolerance, False otherwise.\n",
    "\n",
    "Implement these functions without external libraries.\n"
   ]
  },
  {
   "cell_type": "markdown",
   "id": "23ae6048",
   "metadata": {},
   "source": [
    "**Example 1:**\n",
    "\n",
    "```python\n",
    "import numpy as np\n",
    "\n",
    "def F(x):\n",
    "    f1 = x**3\n",
    "    f2 = np.exp(x) - 1\n",
    "    return np.array([f1, f2])\n",
    "\n",
    "print(is_dirichlet_compatible(F, x_0=0.0, f_0=0.0, etol=0.0001)) # u=0 @ x=0\n",
    "print(is_neumann_compatible(F, x_0=0.0, dfdx_0=0.0, dtol=0.0001, etol=0.001)) # u'=0 @ x=0\n",
    "```\n",
    "\n",
    "*Output:*\n",
    "\n",
    "```python\n",
    "[ True  True]\n",
    "[ True False]\n",
    "```\n",
    "\n",
    "**Example 2:**\n",
    "\n",
    "```python\n",
    "import numpy as np\n",
    "\n",
    "def F(x):\n",
    "    f1 = x**3 - x**2 + 1\n",
    "    f2 = np.cos(2*np.pi*x)-1\n",
    "    f3 = x+1\n",
    "    return np.array([f1, f2, f3])\n",
    "\n",
    "print(is_dirichlet_compatible(F, x_0=1.0, f_0=0.0, etol=0.0001)) # u=0 @ x=1\n",
    "print(is_neumann_compatible(F, x_0=1.0, dfdx_0=1.0, dtol=0.0001, etol=0.001)) # u'=1 @ x=1\n",
    "```\n",
    "\n",
    "*Output:*\n",
    "\n",
    "```python\n",
    "[False  True False]\n",
    "[ True False  True]\n",
    "```"
   ]
  },
  {
   "cell_type": "code",
   "execution_count": 14,
   "id": "ff4def00",
   "metadata": {},
   "outputs": [
    {
     "data": {
      "text/plain": [
       "'implement here'"
      ]
     },
     "execution_count": 14,
     "metadata": {},
     "output_type": "execute_result"
    }
   ],
   "source": [
    "\"implement here\""
   ]
  },
  {
   "cell_type": "markdown",
   "id": "39f12556",
   "metadata": {},
   "source": [
    "## Governing Equations for a 1D Elastic Bar  \n",
    "\n",
    "### **Strain Energy** (Potential Energy):  \n",
    "$$  \n",
    "V = \\frac{1}{2} \\int_{0}^{L} E A \\left( \\frac{\\mathrm{d}u}{\\mathrm{d}x} \\right)^2 \\mathrm{d}x  \n",
    "$$  \n",
    "\n",
    "### **Stiffness Matrix** (from Strain Energy):  \n",
    "$$  \n",
    "\\mathbf{K} = \\int_{0}^{L} E A \\, \\mathbf{F}'^\\top \\mathbf{F}' \\, \\mathrm{d}x  \n",
    "$$  \n",
    "\n",
    "### **Kinetic Energy**:  \n",
    "$$  \n",
    "T = \\frac{1}{2} \\int_{0}^{L} \\rho A \\dot{u}^2 \\mathrm{d}x  \n",
    "$$  \n",
    "\n",
    "### **Mass Matrix** (from Kinetic Energy):  \n",
    "$$  \n",
    "\\mathbf{M} = \\int_{0}^{L} \\rho A \\, \\mathbf{F}^\\top \\mathbf{F} \\, \\mathrm{d}x  \n",
    "$$  \n",
    "\n",
    "#### Notation:  \n",
    "- $u$: Axial displacement  \n",
    "- $\\dot{u}$: Time derivative of displacement  \n",
    "- $\\mathbf{F}$: Vector of shape functions  \n",
    "- $\\mathbf{F}'$: Derivative of shape functions with respect to $x$  \n",
    "- $E$: Young’s modulus, $A$: Cross-sectional area, $\\rho$: Density  \n",
    "- $L$: Length of the bar  "
   ]
  },
  {
   "cell_type": "markdown",
   "id": "520bd881",
   "metadata": {},
   "source": [
    "Write two Python functions to generate mass and stiffness matrices for a 1D finite element problem.\n",
    "\n",
    "1. `generate_mass_matrix`\n",
    "   - Parameters:\n",
    "     - `shape_functions` (callable): Function providing shape functions and/or their properties. \n",
    "     - `length` (float): Length of the bar.\n",
    "     - `linear_density` (float): Mass per unit length of the element.\n",
    "     - `etol` (float): Tolerance for the numerical integration (should control the accuracy somehow).\n",
    "   - Returns:\n",
    "     - Mass matrix (numeric matrix representation).\n",
    "\n",
    "2. `generate_stiffness_matrix`\n",
    "   - Parameters:\n",
    "     - `shape_functions` (callable): Function providing shape functions and/or their properties.\n",
    "     - `length` (float): Length of the bar.\n",
    "     - `axial_stiffness` (float): Young's modulus multiplied by cross-sectional area divided by the length.\n",
    "     - `dtol` (float): Tolerance for derivative calculation.\n",
    "     - `etol` (float): Tolerance for the numerical integration (should control the accuracy somehow).\n",
    "   - Returns:\n",
    "     - Stiffness matrix (numeric matrix representation).\n",
    "\n",
    "Implement these functions using basic Python operations. Assume valid inputs are provided and the callable `shape_functions` returns all required geometric/functional information. \n",
    "Return matrices as a numpy arrays."
   ]
  },
  {
   "cell_type": "markdown",
   "id": "7e43509e",
   "metadata": {},
   "source": [
    "**Example 1:**\n",
    "\n",
    "```python\n",
    "length = 1\n",
    "linear_density = 1 # rho*A\n",
    "axial_stiffness = 1 # E*A/L\n",
    "\n",
    "def F(x):\n",
    "    f1 = x**3 - x**2\n",
    "    f2 = x**4 - x**3\n",
    "    return np.array([f1, f2])\n",
    "\n",
    "print(generate_mass_matrix(F, length, linear_density, 1e-5), '\\n')\n",
    "print(generate_stiffness_matrix(F, length, axial_stiffness, 1e-5, 1e-5))\n",
    "```\n",
    "\n",
    "*Output:*\n",
    "\n",
    "```python\n",
    "[[0.00952388 0.00595242]\n",
    " [0.00595242 0.00396832]]\n",
    " \n",
    "[[0.13333333 0.10000000]\n",
    " [0.10000000 0.0857143]]\n",
    "```\n",
    "\n",
    "\n",
    "**Example 2:**\n",
    "\n",
    "```python\n",
    "length = 2\n",
    "linear_density = 10 # rho*A\n",
    "axial_stiffness = 100 # E*A/L\n",
    "\n",
    "def F(x):\n",
    "    f1 = x**3 - x**2\n",
    "    f2 = 3*x**4 - x**3\n",
    "    f3 = x**2 - x\n",
    "    return np.array([f1, f2, f3])\n",
    "\n",
    "print(generate_mass_matrix(F, length, linear_density, 1e-3), '\\n')\n",
    "print(generate_stiffness_matrix(F, length, axial_stiffness, 1e-3, 1e-3))\n",
    "```\n",
    "\n",
    "*Output:*\n",
    "\n",
    "```python\n",
    "[[  33.52383859  335.23813163   18.66666667]\n",
    " [ 335.23813163 3382.85735747  185.90484911]\n",
    " [  18.66666667  185.90484911   10.66666667]] \n",
    "\n",
    "[[  4053.33334933  39360.00023199   1866.66667067]\n",
    " [ 39360.00023199 384548.57503839  17920.000076  ]\n",
    " [  1866.66667067  17920.000076      933.33333333]]\n",
    "```"
   ]
  },
  {
   "cell_type": "code",
   "execution_count": 15,
   "id": "2af5cbb2",
   "metadata": {},
   "outputs": [
    {
     "data": {
      "text/plain": [
       "'implement here'"
      ]
     },
     "execution_count": 15,
     "metadata": {},
     "output_type": "execute_result"
    }
   ],
   "source": [
    "\"implement here\""
   ]
  }
 ],
 "metadata": {
  "kernelspec": {
   "display_name": "Python 3",
   "language": "python",
   "name": "python3"
  },
  "language_info": {
   "codemirror_mode": {
    "name": "ipython",
    "version": 3
   },
   "file_extension": ".py",
   "mimetype": "text/x-python",
   "name": "python",
   "nbconvert_exporter": "python",
   "pygments_lexer": "ipython3",
   "version": "3.13.2"
  }
 },
 "nbformat": 4,
 "nbformat_minor": 5
}
